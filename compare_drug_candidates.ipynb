{
 "cells": [
  {
   "cell_type": "code",
   "execution_count": 12,
   "metadata": {},
   "outputs": [],
   "source": [
    "from transformers import T5Tokenizer, T5ForConditionalGeneration, RobertaTokenizerFast, RobertaForSequenceClassification, pipeline\n",
    "import selfies as sf\n",
    "import numpy as np"
   ]
  },
  {
   "cell_type": "code",
   "execution_count": 13,
   "metadata": {},
   "outputs": [
    {
     "name": "stderr",
     "output_type": "stream",
     "text": [
      "Special tokens have been added in the vocabulary, make sure the associated word embeddings are fine-tuned or trained.\n",
      "Special tokens have been added in the vocabulary, make sure the associated word embeddings are fine-tuned or trained.\n"
     ]
    }
   ],
   "source": [
    "generation_tokenizer = T5Tokenizer.from_pretrained(\"QizhiPei/biot5-base-text2mol\", model_max_length=512)\n",
    "base_generation_model = 'models/biot5-base-text2mol-finetuned'\n",
    "augmented_generation_model = 'models/biot5-base-text2mol-augmented'\n",
    "classifier = pipeline(\"text-classification\", model = \"models/chemberta\")\n",
    "\n",
    "generation_size = 1000"
   ]
  },
  {
   "cell_type": "code",
   "execution_count": 14,
   "metadata": {},
   "outputs": [
    {
     "name": "stdout",
     "output_type": "stream",
     "text": [
      "models/biot5-base-text2mol-finetuned 1.0\n",
      "models/biot5-base-text2mol-augmented 1.0\n"
     ]
    }
   ],
   "source": [
    "for model_path in [base_generation_model, augmented_generation_model]:\n",
    "    generation_model = T5ForConditionalGeneration.from_pretrained(model_path, use_safetensors=True)\n",
    "    task_definition = 'Definition: You are given a molecule description in English. Your job is to generate the molecule SELFIES that fits the description.\\n\\n'\n",
    "    text_input = 'The molecule is a COVID-19 drug candidate.'\n",
    "    task_input = f'Now complete the following example -\\nInput: {text_input}\\nOutput: '\n",
    "\n",
    "    model_input = task_definition + task_input\n",
    "    input_ids = generation_tokenizer(model_input, return_tensors=\"pt\").input_ids\n",
    "\n",
    "    generation_config = generation_model.generation_config\n",
    "    generation_config.max_length = 512\n",
    "    generation_config.num_beams = 1\n",
    "\n",
    "    mol_selfies = []\n",
    "    mol_smiles = []\n",
    "    dupes = 0\n",
    "\n",
    "    for i in range(generation_size):  \n",
    "        outputs = generation_model.generate(input_ids, generation_config=generation_config)\n",
    "        output_selfies = generation_tokenizer.decode(outputs[0], skip_special_tokens=True).replace(' ', '')\n",
    "        mol_selfies.append(output_selfies)        \n",
    "        output_smiles = sf.decoder(output_selfies)\n",
    "        mol_smiles.append(output_smiles)\n",
    "\n",
    "    mol_activity = [1 if result[\"label\"] == 'LABEL_1' else 0 for result in classifier(mol_smiles)]\n",
    "    predicted_activity_rate = np.average(mol_activity)\n",
    "    print(model_path, predicted_activity_rate)"
   ]
  }
 ],
 "metadata": {
  "kernelspec": {
   "display_name": "comp4040",
   "language": "python",
   "name": "python3"
  },
  "language_info": {
   "codemirror_mode": {
    "name": "ipython",
    "version": 3
   },
   "file_extension": ".py",
   "mimetype": "text/x-python",
   "name": "python",
   "nbconvert_exporter": "python",
   "pygments_lexer": "ipython3",
   "version": "3.9.-1"
  }
 },
 "nbformat": 4,
 "nbformat_minor": 2
}
