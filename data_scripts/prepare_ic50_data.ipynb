{
 "cells": [
  {
   "cell_type": "code",
   "execution_count": 89,
   "metadata": {},
   "outputs": [],
   "source": [
    "import json\n",
    "import pandas as pd\n",
    "from sklearn.model_selection import train_test_split\n",
    "import uuid\n",
    "import os\n",
    "import selfies as sf"
   ]
  },
  {
   "cell_type": "code",
   "execution_count": 90,
   "metadata": {},
   "outputs": [
    {
     "data": {
      "text/html": [
       "<div>\n",
       "<style scoped>\n",
       "    .dataframe tbody tr th:only-of-type {\n",
       "        vertical-align: middle;\n",
       "    }\n",
       "\n",
       "    .dataframe tbody tr th {\n",
       "        vertical-align: top;\n",
       "    }\n",
       "\n",
       "    .dataframe thead th {\n",
       "        text-align: right;\n",
       "    }\n",
       "</style>\n",
       "<table border=\"1\" class=\"dataframe\">\n",
       "  <thead>\n",
       "    <tr style=\"text-align: right;\">\n",
       "      <th></th>\n",
       "      <th>SMILES</th>\n",
       "      <th>pIC50 (IC50 in microM)</th>\n",
       "    </tr>\n",
       "  </thead>\n",
       "  <tbody>\n",
       "    <tr>\n",
       "      <th>0</th>\n",
       "      <td>ClC1=CC(NC(=O)CSC2=NC=CC(=N2)C2=CSC(=N2)C2=CC=...</td>\n",
       "      <td>-0.477121255</td>\n",
       "    </tr>\n",
       "    <tr>\n",
       "      <th>1</th>\n",
       "      <td>CN1N=C(C=C1C(F)(F)F)C1=CC=C(S1)C1=CC=NC(SCC(=O...</td>\n",
       "      <td>-1</td>\n",
       "    </tr>\n",
       "    <tr>\n",
       "      <th>2</th>\n",
       "      <td>CSC1=C(C(C)=C(S1)C1=NC(C)=CS1)C1=CC=NC(SCC(=O)...</td>\n",
       "      <td>-1.041392685</td>\n",
       "    </tr>\n",
       "    <tr>\n",
       "      <th>4</th>\n",
       "      <td>CC1=NC(=CS1)C1=NC(=CS1)C1=NC(SCC(=O)NC2=CC=C(C...</td>\n",
       "      <td>-1.146128036</td>\n",
       "    </tr>\n",
       "    <tr>\n",
       "      <th>5</th>\n",
       "      <td>ClC1=CC=C(NC(=O)CSC2=NC=CC(=N2)C2=CC(=NO2)C2=C...</td>\n",
       "      <td>-1.176091259</td>\n",
       "    </tr>\n",
       "  </tbody>\n",
       "</table>\n",
       "</div>"
      ],
      "text/plain": [
       "                                              SMILES pIC50 (IC50 in microM)\n",
       "0  ClC1=CC(NC(=O)CSC2=NC=CC(=N2)C2=CSC(=N2)C2=CC=...           -0.477121255\n",
       "1  CN1N=C(C=C1C(F)(F)F)C1=CC=C(S1)C1=CC=NC(SCC(=O...                     -1\n",
       "2  CSC1=C(C(C)=C(S1)C1=NC(C)=CS1)C1=CC=NC(SCC(=O)...           -1.041392685\n",
       "4  CC1=NC(=CS1)C1=NC(=CS1)C1=NC(SCC(=O)NC2=CC=C(C...           -1.146128036\n",
       "5  ClC1=CC=C(NC(=O)CSC2=NC=CC(=N2)C2=CC(=NO2)C2=C...           -1.176091259"
      ]
     },
     "execution_count": 90,
     "metadata": {},
     "output_type": "execute_result"
    }
   ],
   "source": [
    "df = pd.read_csv(\"../BioT5/data/kaggle/DDH Data.csv\")\n",
    "df = df.loc[df[\"pIC50 (IC50 in microM)\"] != \"BLINDED\"]\n",
    "df = df.drop([\"Unnamed: 3\", 'Compound No.'], axis = 1)\n",
    "df.head()"
   ]
  },
  {
   "cell_type": "code",
   "execution_count": 91,
   "metadata": {},
   "outputs": [],
   "source": [
    "def get_selfies(row):\n",
    "    return sf.encoder(row[\"SMILES\"])\n",
    "\n",
    "df[\"selfies\"] = df.apply(get_selfies, axis=1)\n"
   ]
  },
  {
   "cell_type": "code",
   "execution_count": 92,
   "metadata": {},
   "outputs": [
    {
     "data": {
      "text/plain": [
       "(                                              SMILES pIC50 (IC50 in microM)  \\\n",
       " 0  ClC1=CC(NC(=O)CSC2=NC=CC(=N2)C2=CSC(=N2)C2=CC=...           -0.477121255   \n",
       " 1  CN1N=C(C=C1C(F)(F)F)C1=CC=C(S1)C1=CC=NC(SCC(=O...                     -1   \n",
       " 2  CSC1=C(C(C)=C(S1)C1=NC(C)=CS1)C1=CC=NC(SCC(=O)...           -1.041392685   \n",
       " 4  CC1=NC(=CS1)C1=NC(=CS1)C1=NC(SCC(=O)NC2=CC=C(C...           -1.146128036   \n",
       " 5  ClC1=CC=C(NC(=O)CSC2=NC=CC(=N2)C2=CC(=NO2)C2=C...           -1.176091259   \n",
       " \n",
       "                                              selfies activity  \n",
       " 0  [Cl][C][=C][C][Branch2][Ring2][Ring1][N][C][=B...     Yes.  \n",
       " 1  [C][N][N][=C][Branch1][=N][C][=C][Ring1][Branc...      No.  \n",
       " 2  [C][S][C][=C][Branch2][Ring1][Branch1][C][Bran...      No.  \n",
       " 4  [C][C][=N][C][=Branch1][Branch1][=C][S][Ring1]...      No.  \n",
       " 5  [Cl][C][=C][C][=C][Branch2][Ring2][Ring1][N][C...      No.  ,\n",
       " 94)"
      ]
     },
     "execution_count": 92,
     "metadata": {},
     "output_type": "execute_result"
    }
   ],
   "source": [
    "def get_activity(row):\n",
    "    return \"Yes.\" if float(row[\"pIC50 (IC50 in microM)\"]) > -1 else \"No.\"\n",
    "\n",
    "df[\"activity\"] = df.apply(get_activity, axis=1)\n",
    "df.head(), len(df)"
   ]
  },
  {
   "cell_type": "code",
   "execution_count": 93,
   "metadata": {},
   "outputs": [
    {
     "data": {
      "text/plain": [
       "(                                              SMILES pIC50 (IC50 in microM)  \\\n",
       " 0  ClC1=CC(NC(=O)CSC2=NC=CC(=N2)C2=CSC(=N2)C2=CC=...           -0.477121255   \n",
       " 1  CN1N=C(C=C1C(F)(F)F)C1=CC=C(S1)C1=CC=NC(SCC(=O...                     -1   \n",
       " 2  CSC1=C(C(C)=C(S1)C1=NC(C)=CS1)C1=CC=NC(SCC(=O)...           -1.041392685   \n",
       " 3  CC1=NC(=CS1)C1=NC(=CS1)C1=NC(SCC(=O)NC2=CC=C(C...           -1.146128036   \n",
       " 4  ClC1=CC=C(NC(=O)CSC2=NC=CC(=N2)C2=CC(=NO2)C2=C...           -1.176091259   \n",
       " \n",
       "                                              selfies activity  \n",
       " 0  [Cl][C][=C][C][Branch2][Ring2][Ring1][N][C][=B...     Yes.  \n",
       " 1  [C][N][N][=C][Branch1][=N][C][=C][Ring1][Branc...      No.  \n",
       " 2  [C][S][C][=C][Branch2][Ring1][Branch1][C][Bran...      No.  \n",
       " 3  [C][C][=N][C][=Branch1][Branch1][=C][S][Ring1]...      No.  \n",
       " 4  [Cl][C][=C][C][=C][Branch2][Ring2][Ring1][N][C...      No.  ,\n",
       " 255)"
      ]
     },
     "execution_count": 93,
     "metadata": {},
     "output_type": "execute_result"
    }
   ],
   "source": [
    "# Add data from ttd. Assume all drugs in TTD are active\n",
    "drugs_from_ttd = pd.read_csv(\"../BioT5/data/ttd/processed_dataset.csv\")\n",
    "for i, row in drugs_from_ttd.iterrows():\n",
    "    if row[\"selfies\"] not in df[\"selfies\"]:\n",
    "        new_row = {\"SMILES\": [row[\"smiles\"]],\n",
    "                       \"pIC50 (IC50 in microM)\": [0],\n",
    "                       \"selfies\": [row[\"selfies\"]],\n",
    "                       \"activity\": [\"Yes.\"]}\n",
    "        df = pd.concat([df, pd.DataFrame(new_row)], ignore_index=True)\n",
    "        df.reset_index()\n",
    "    else:\n",
    "        print(\"duplicate\", row[\"drug_name\"])\n",
    "df.head(), len(df)"
   ]
  },
  {
   "cell_type": "code",
   "execution_count": 94,
   "metadata": {},
   "outputs": [],
   "source": [
    "task_id = 203 #arbitrary id number, biot5's task ids go up to 180. \n",
    "\n",
    "os.makedirs(\"../BioT5/data/splits/covid/prediction\", exist_ok=True)\n",
    "os.makedirs(\"../deepchem_property_prediction/data\", exist_ok=True)\n",
    "\n",
    "train_df, val_test_df = train_test_split(df, test_size=0.25, random_state=42, stratify=df[[\"activity\"]])\n",
    "val_df, test_df = train_test_split(val_test_df, test_size=0.5, random_state=42, stratify=val_test_df[[\"activity\"]])\n",
    "for dset, df in enumerate((train_df, val_df, test_df)):\n",
    "    content = {\"Contributors\": [\"Nguyen Duy Minh\"], \"Categories\": [\"Classification\"], \"Reasoning\": [], \"URL\": [\"https://www.kaggle.com/datasets/divyansh22/drug-discovery-data\"], \"Instruction_language\": [\"English\"], \"Domains\": [\"Chemistry\"], \"Positive Examples\": [], \"Negative Examples\": [],\"Instances\": [], \"Source\": [\"Predict the property of the given molecule.\"], \"Definition\": [\"You are given a molecule SELFIES. If the given molecule can inhibit HIV replication, indicate via \\\"Yes\\\". Otherwise, response via \\\"No\\\".\"], \"Input_language\": [\"SELFIES\"], \"Output_language\": [\"English\"], \"Instance License\": [\"Unknown\"]}\n",
    "    for _, row in df.iterrows():\n",
    "        content[\"Instances\"].append(        {\n",
    "        \"id\": f\"task{task_id}-{uuid.uuid4().hex}\",\n",
    "        \"input\": f'Molecule: <bom>{row[\"selfies\"]}<eom>',\n",
    "        \"output\": [\n",
    "            row[\"activity\"]\n",
    "        ]\n",
    "    })\n",
    "    with open(f'../BioT5/data/tasks/task{task_id}_COVID_drug_activity_prediction_{[\"train\", \"validation\", \"test\"][dset]}.json', \"w\") as out:\n",
    "        json.dump(content, out, indent=4)\n",
    "    with open(f'../BioT5/data/splits/covid/prediction/{[\"train\", \"validation\", \"test\"][dset]}_tasks.txt', \"w\") as out:\n",
    "        out.write(f'task{task_id}_COVID_drug_activity_prediction_{[\"train\", \"validation\", \"test\"][dset]}')\n",
    "    df.to_csv(f'../deepchem_property_prediction/data/{[\"train\", \"validation\", \"test\"][dset]}.csv')"
   ]
  }
 ],
 "metadata": {
  "kernelspec": {
   "display_name": "comp4040",
   "language": "python",
   "name": "python3"
  },
  "language_info": {
   "codemirror_mode": {
    "name": "ipython",
    "version": 3
   },
   "file_extension": ".py",
   "mimetype": "text/x-python",
   "name": "python",
   "nbconvert_exporter": "python",
   "pygments_lexer": "ipython3",
   "version": "3.9.undefined"
  }
 },
 "nbformat": 4,
 "nbformat_minor": 2
}
